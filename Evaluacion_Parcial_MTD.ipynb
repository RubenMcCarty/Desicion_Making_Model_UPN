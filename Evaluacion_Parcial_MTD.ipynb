{
  "nbformat": 4,
  "nbformat_minor": 0,
  "metadata": {
    "colab": {
      "name": "Evaluacion_Parcial_MTD.ipynb",
      "provenance": [],
      "authorship_tag": "ABX9TyMGGvjO4KptgFwLj2AyOBzS",
      "include_colab_link": true
    },
    "kernelspec": {
      "name": "python3",
      "display_name": "Python 3"
    },
    "language_info": {
      "name": "python"
    }
  },
  "cells": [
    {
      "cell_type": "markdown",
      "metadata": {
        "id": "view-in-github",
        "colab_type": "text"
      },
      "source": [
        "<a href=\"https://colab.research.google.com/github/RubenMcCarty/Desicion_Making_Model_UPN/blob/main/Evaluacion_Parcial_MTD.ipynb\" target=\"_parent\"><img src=\"https://colab.research.google.com/assets/colab-badge.svg\" alt=\"Open In Colab\"/></a>"
      ]
    },
    {
      "cell_type": "markdown",
      "metadata": {
        "id": "R-mnfkrivamb"
      },
      "source": [
        "# **EVALUACIÓN PARCIAL PREDICCIÓN DEL PRECIO DE UN AUTOMOVIL**\n",
        "# **MODELO PARA LA TOMA DE DECISIONES**\n",
        "# Profesor: [MSc. Ruben Quispe](https://www.linkedin.com/in/msc-rub%C3%A9n-quispe-l/)\n"
      ]
    },
    {
      "cell_type": "markdown",
      "metadata": {
        "id": "5T1r0nmv4PRM"
      },
      "source": [
        "# Alumna(o):\n"
      ]
    },
    {
      "cell_type": "markdown",
      "metadata": {
        "id": "W6aZXer64kWC"
      },
      "source": [
        "# PREDICCIÓN DEL PRECIO DE UN AUTOMOVIL\n",
        "# Objetivos\n",
        "Después de completar esta práctica de laboratorio, podrá:\n",
        "* __Desarrollar modelos de predicción.__\n",
        "\n",
        "En esta sección, desarrollaremos varios modelos que predecirán el precio del automóvil usando las variables o características, como se enseñó en clase. Esto es solo una estimación, pero debería darnos una idea objetiva de cuánto debería costar el automóvil.\n",
        "* __Algunas preguntas que queremos hacer en este módulo__\n",
        "\n",
        "* ¿Sé si el concesionario está ofreciendo un valor justo por mi intercambio?\n",
        "\n",
        "* ¿Si pongo un valor justo en mi auto?\n",
        "\n",
        "Análisis de datos, a menudo utilizamos el desarrollo de modelos para ayudarnos a predecir futuras observaciones a partir de los datos que tenemos.\n",
        "\n",
        "Un modelo nos ayudará a comprender la relación exacta entre diferentes variables y cómo se utilizan estas variables para predecir el resultado.\n",
        "\n"
      ]
    },
    {
      "cell_type": "markdown",
      "metadata": {
        "id": "rWMXoNMr7U2l"
      },
      "source": [
        "# La evaluación parcial consta de Varios procesos\n",
        "1. Adquisición de Data\n",
        "2. Data Wrangling o negociación de datos\n",
        "3. Completar datos faltantes\n",
        "4. Standarización de Datos\n",
        "5. Normalización de  Datos\n",
        "6. Analisis de Datos exploratorios (EDA)\n",
        "7. Variables numéricas continuas\n",
        "8. Variables categoricas\n",
        "9. Análisis estadístico descriptivo\n",
        "10. Conceptos básicos de agrupación\n",
        "11. Correlación y causalidad\n",
        "\n",
        "12. ANOVA: Analysis of Variance\n",
        "13. Modelo de Desarrollo\n",
        "14. Regresión Lineal y Regresión Lineal Multiple\n",
        "15. Modelo de Evaluación usando visualización\n",
        "16. Gráfico de regresión \n",
        "17. Gráfica residual\n",
        "18. Regresión polinomial y pipelines\n",
        "19. Medidas para la evaluación en la muestra\n",
        "20. Modelo 1: Regresión lineal simple\n",
        "21. Modelo 2: Regresión lineal multiple\n",
        "22. Modelo 3:Ajuste polinomial\n",
        "23. Predicción y tomar decisiones\n",
        "24. Tomar decisiones: determinar un buen ajuste del modelo\n",
        "25. Conclusiones\n",
        "\n",
        "\n",
        "\n",
        "\n",
        "\n",
        "\n",
        "\n"
      ]
    },
    {
      "cell_type": "markdown",
      "metadata": {
        "id": "739DgKjOABQa"
      },
      "source": [
        "# **1. Adquisición de datos**"
      ]
    },
    {
      "cell_type": "code",
      "metadata": {
        "id": "M24F8pi74I5x"
      },
      "source": [
        "# import pandas library\n",
        "import pandas as pd\n",
        "import numpy as np"
      ],
      "execution_count": 1,
      "outputs": []
    },
    {
      "cell_type": "code",
      "metadata": {
        "id": "F4tf4GBdARLl"
      },
      "source": [
        "data = \"https://cf-courses-data.s3.us.cloud-object-storage.appdomain.cloud/IBMDeveloperSkillsNetwork-DA0101EN-SkillsNetwork/labs/Data%20files/auto.csv\"\n"
      ],
      "execution_count": 3,
      "outputs": []
    },
    {
      "cell_type": "code",
      "metadata": {
        "id": "YilFFh6TAaQF"
      },
      "source": [
        "# leer la data\n",
        "# aquí tu código\n"
      ],
      "execution_count": 4,
      "outputs": []
    },
    {
      "cell_type": "code",
      "metadata": {
        "id": "ye7yzj5eAhTU"
      },
      "source": [
        "# leer los 5 primeras filas\n",
        "#aquí tu código"
      ],
      "execution_count": 5,
      "outputs": []
    },
    {
      "cell_type": "code",
      "metadata": {
        "id": "nGjvvjk2ArVp"
      },
      "source": [
        "# leer las 10 ultimas filas \n",
        "# tu código"
      ],
      "execution_count": 6,
      "outputs": []
    },
    {
      "cell_type": "markdown",
      "metadata": {
        "id": "HeRSBr8jBI44"
      },
      "source": [
        "# Agregar encabezados\n",
        "headers = [\"symboling\",\"normalized-losses\",\"make\",\"fuel-type\",\"aspiration\", \"num-of-doors\",\"body-style\",\n",
        "         \"drive-wheels\",\"engine-location\",\"wheel-base\", \"length\",\"width\",\"height\",\"curb-weight\",\"engine-type\",\n",
        "         \"num-of-cylinders\", \"engine-size\",\"fuel-system\",\"bore\",\"stroke\",\"compression-ratio\",\"horsepower\",\n",
        "         \"peak-rpm\",\"city-mpg\",\"highway-mpg\",\"price\"]\n",
        "print(\"headers\\n\", headers)\n"
      ]
    },
    {
      "cell_type": "code",
      "metadata": {
        "id": "sh0xyxavBCK4"
      },
      "source": [
        "# crear una lista con los encabezados\n",
        "#aquí tu código\n"
      ],
      "execution_count": 7,
      "outputs": []
    },
    {
      "cell_type": "code",
      "metadata": {
        "id": "9fBecr7_Bxyc"
      },
      "source": [
        "# Reemplazar los encabezados en cada columna y leer de nuevo el dataframe\n",
        "# aquí tu código\n"
      ],
      "execution_count": 8,
      "outputs": []
    },
    {
      "cell_type": "code",
      "metadata": {
        "id": "Cb_nYnLfCzEi"
      },
      "source": [
        "# necesitamos reemplazar el \"?\" símbolo con NaN para que dropna () pueda eliminar los valores faltantes\n",
        "# Aquí tu código "
      ],
      "execution_count": 9,
      "outputs": []
    },
    {
      "cell_type": "code",
      "metadata": {
        "id": "S86QszJADIfe"
      },
      "source": [
        "# Elimina los valores faltantes de la columna precios si los hay\n",
        "#aquí tu código"
      ],
      "execution_count": 10,
      "outputs": []
    },
    {
      "cell_type": "code",
      "metadata": {
        "id": "SW5ZeQXuDbRW"
      },
      "source": [
        "# encuentre el nombre de las columnas del dataframe\n"
      ],
      "execution_count": 11,
      "outputs": []
    },
    {
      "cell_type": "markdown",
      "metadata": {
        "id": "l2mPKa3-EQzx"
      },
      "source": [
        "# Guarda el dataset"
      ]
    },
    {
      "cell_type": "markdown",
      "metadata": {
        "id": "eSIUkUohEdch"
      },
      "source": [
        "En consecuencia, Pandas nos permite guardar el conjunto de datos en csv utilizando el método dataframe.to_csv (), puede agregar la ruta y el nombre del archivo junto con las comillas entre paréntesis.\n",
        "\n",
        "<h2>Read/Save Other Data Formats</h2>\n",
        "\n",
        "| Data Formate |        Read       |            Save |\n",
        "| ------------ | :---------------: | --------------: |\n",
        "| csv          |  `pd.read_csv()`  |   `df.to_csv()` |\n",
        "| json         |  `pd.read_json()` |  `df.to_json()` |\n",
        "| excel        | `pd.read_excel()` | `df.to_excel()` |\n",
        "| hdf          |  `pd.read_hdf()`  |   `df.to_hdf()` |\n",
        "| sql          |  `pd.read_sql()`  |   `df.to_sql()` |\n",
        "| ...          |        ...        |             ... |\n"
      ]
    },
    {
      "cell_type": "code",
      "metadata": {
        "id": "Kh4srydOD1ct"
      },
      "source": [
        "#aquí tu código "
      ],
      "execution_count": 12,
      "outputs": []
    },
    {
      "cell_type": "code",
      "metadata": {
        "id": "utggCaLyFXym"
      },
      "source": [
        "# Indica los tipo de datos de cada columna"
      ],
      "execution_count": 13,
      "outputs": []
    },
    {
      "cell_type": "code",
      "metadata": {
        "id": "ahVYuVXUFonp"
      },
      "source": [
        "# obtener un resumen estadístico de cada columna con describe"
      ],
      "execution_count": 14,
      "outputs": []
    },
    {
      "cell_type": "code",
      "metadata": {
        "id": "Y5rFTbEGF9X0"
      },
      "source": [
        "# Agrega un argumento include=all para leer todo las columnas"
      ],
      "execution_count": 15,
      "outputs": []
    },
    {
      "cell_type": "code",
      "metadata": {
        "id": "XZ5SoJQYGa6x"
      },
      "source": [
        "# Leer 3 columnas \"num-of-doors,engine-size y price, \" y aplicar el describe"
      ],
      "execution_count": 16,
      "outputs": []
    },
    {
      "cell_type": "code",
      "metadata": {
        "id": "zkvPSVJHHGg8"
      },
      "source": [
        "# Proporciona un resumen conciso de su dataframe con .info"
      ],
      "execution_count": null,
      "outputs": []
    },
    {
      "cell_type": "markdown",
      "metadata": {
        "id": "U4vqQvrXHb9C"
      },
      "source": [
        "# **2. Data Wrangling**\n",
        "### Objetivos\n",
        "Después de completar esta práctica de laboratorio, podrá:\n",
        "\n",
        "* Manejar valores perdidos\n",
        "* Formato de datos correcto\n",
        "* Estandarizar y normalizar datos"
      ]
    },
    {
      "cell_type": "code",
      "metadata": {
        "id": "XYOa3zh1HiMT"
      },
      "source": [
        "# importar las librerias necesarias\n",
        "# tu codigo"
      ],
      "execution_count": 17,
      "outputs": []
    },
    {
      "cell_type": "code",
      "metadata": {
        "id": "oj-pghBmH_kU"
      },
      "source": [
        "# Leer el dataset que guardaste en la adquisición de datos\n",
        "# tu código aquí\n"
      ],
      "execution_count": 18,
      "outputs": []
    },
    {
      "cell_type": "code",
      "metadata": {
        "id": "3_HkvsogISZY"
      },
      "source": [
        "#leer el dataset y comparar con el que guardaste\n",
        "Data1 = \"https://cf-courses-data.s3.us.cloud-object-storage.appdomain.cloud/IBMDeveloperSkillsNetwork-DA0101EN-SkillsNetwork/labs/Data%20files/auto.csv\""
      ],
      "execution_count": 19,
      "outputs": []
    },
    {
      "cell_type": "code",
      "metadata": {
        "id": "gUByE8veK-Jt"
      },
      "source": [
        "# tu código aquí"
      ],
      "execution_count": 20,
      "outputs": []
    },
    {
      "cell_type": "code",
      "metadata": {
        "id": "yUAiB-xDLExq"
      },
      "source": [
        "# Convierte ? a NaN y vuela a leer el dataframe"
      ],
      "execution_count": 22,
      "outputs": []
    },
    {
      "cell_type": "code",
      "metadata": {
        "id": "5Odg_uOELSQ0"
      },
      "source": [
        "# evalua datos faltantes con los metodos que se enseño en clase"
      ],
      "execution_count": 23,
      "outputs": []
    },
    {
      "cell_type": "code",
      "metadata": {
        "id": "gyDCSSh-Lt7t"
      },
      "source": [
        "# Cuenta los valores perdidos o faltantes en cada columna y muestralos "
      ],
      "execution_count": 24,
      "outputs": []
    },
    {
      "cell_type": "markdown",
      "metadata": {
        "id": "VGS9hF-XOgWb"
      },
      "source": [
        "# Resolver los datos faltantes\n",
        "* # ¿Cómo lidiar con los datos faltantes?\n",
        "1. # drop o eliminar datos\n",
        " * a. drop toda la fila\n",
        " * b. drop o eliminar toda la columna\n",
        "2. # reemplazar datos\n",
        " * a. reemplazarlo por la media\n",
        " * b. reemplazarlo por frecuencia\n",
        " * c. reemplazarlo en función de otras funciones\n",
        "\n",
        "Las columnas enteras deben descartarse solo si la mayoría de las entradas de la columna están vacías. \n",
        "Revise su dataset y apliacalos.\n",
        " Aplicar cada método a muchas columnas diferentes:\n",
        "\n",
        "* # Reemplazar por media:\n",
        "\n",
        "* \"stroke\": 41 datos faltantes, reemplácelos con la media\n",
        "* \"accidente cerebrovascular\": 4 datos faltantes, reemplácelos con la media\n",
        "* \"bore\": 4 datos faltantes, reemplácelos con mean\n",
        "* \"horsepower\": 2 datos faltantes, reemplácelos con la media\n",
        "* \"peak-rpm\": 2 datos faltantes, reemplácelos con la media\n",
        "\n",
        "* # Reemplazar por frecuencia:\n",
        "\n",
        "* \"num-of-doors\": faltan 2 datos, reemplácelos con \"cuatro\".\n",
        "\n",
        "Razón: el 84% de los sedanes son de cuatro puertas. Dado que cuatro puertas es más frecuente, es más probable que ocurra\n",
        "\n",
        "* # elimina toda la fila:\n",
        "\n",
        "* \"prece\": 4 datos faltantes, simplemente elimine toda la fila\n",
        "\n",
        "Razón: el precio es lo que queremos predecir. Cualquier entrada de datos sin datos de precios no se puede utilizar para la predicción; por lo tanto, cualquier fila ahora sin datos de precios no nos es útil"
      ]
    },
    {
      "cell_type": "code",
      "metadata": {
        "id": "BKUNvGIeOII9"
      },
      "source": [
        "# Calcula el promedio de la columna normalized-losses\n"
      ],
      "execution_count": 25,
      "outputs": []
    },
    {
      "cell_type": "code",
      "metadata": {
        "id": "ZN5yErERRAGL"
      },
      "source": [
        "# Reemplace NaN por el promedio en la columna normalized-losses"
      ],
      "execution_count": 26,
      "outputs": []
    },
    {
      "cell_type": "code",
      "metadata": {
        "id": "FGI89cjpRWnX"
      },
      "source": [
        "# Calcula el promedio de la columna bore"
      ],
      "execution_count": 27,
      "outputs": []
    },
    {
      "cell_type": "code",
      "metadata": {
        "id": "xnUyAItERkT1"
      },
      "source": [
        "# Reemplace NaN por el promedio en la columna bore"
      ],
      "execution_count": 28,
      "outputs": []
    },
    {
      "cell_type": "code",
      "metadata": {
        "id": "046B8luDRlyX"
      },
      "source": [
        "# De acuerdo con el ejemplo anterior, reemplace NaN en la columna \"stroke\" por media o promedio"
      ],
      "execution_count": 30,
      "outputs": []
    },
    {
      "cell_type": "code",
      "metadata": {
        "id": "_D2XnT_fSEkJ"
      },
      "source": [
        "# Calcula al media de la columna horsepower"
      ],
      "execution_count": 31,
      "outputs": []
    },
    {
      "cell_type": "code",
      "metadata": {
        "id": "fEdVzHQQSYux"
      },
      "source": [
        "# reemplaza NaN por la media de la columna horsepower"
      ],
      "execution_count": 32,
      "outputs": []
    },
    {
      "cell_type": "code",
      "metadata": {
        "id": "0tzmBONlShQE"
      },
      "source": [
        "# Calcula al media de la columna peak-rpm"
      ],
      "execution_count": 33,
      "outputs": []
    },
    {
      "cell_type": "code",
      "metadata": {
        "id": "00u4jzndSpNl"
      },
      "source": [
        "# reemplaza NaN por la media de la columna peak-rpm"
      ],
      "execution_count": 34,
      "outputs": []
    },
    {
      "cell_type": "code",
      "metadata": {
        "id": "Dh9mUllFTAKD"
      },
      "source": [
        "# para ver qué valores están presentes en una columna en particular, podemos usar el método \".value_counts ()\":\n",
        "# aplica a num-of-doors"
      ],
      "execution_count": 37,
      "outputs": []
    },
    {
      "cell_type": "code",
      "metadata": {
        "id": "qm0ezVw_TDb7"
      },
      "source": [
        "# También podemos usar el método \".idxmax ()\" para calcularnos el tipo más común automáticamente, aplica a num-of-doors"
      ],
      "execution_count": 38,
      "outputs": []
    },
    {
      "cell_type": "code",
      "metadata": {
        "id": "GezzMoh1TnzU"
      },
      "source": [
        "# Reemplaza el valor perdido de la columna num-of-doors por el valor mas frecuente"
      ],
      "execution_count": 39,
      "outputs": []
    },
    {
      "cell_type": "code",
      "metadata": {
        "id": "jScllNV7UHCl"
      },
      "source": [
        "#  elimina todas las filas que no tienen datos de precios:"
      ],
      "execution_count": 40,
      "outputs": []
    },
    {
      "cell_type": "code",
      "metadata": {
        "id": "ZADiUHcRUQo4"
      },
      "source": [
        "# restablecer el índice, si eliminaste filas"
      ],
      "execution_count": null,
      "outputs": []
    },
    {
      "cell_type": "markdown",
      "metadata": {
        "id": "1IzDvw9EU-VN"
      },
      "source": [
        "# Formato de datos correcto"
      ]
    },
    {
      "cell_type": "markdown",
      "metadata": {
        "id": "t0sw6G67VNMg"
      },
      "source": [
        "\n",
        "El último paso en la limpieza de datos es verificar y asegurarse de que todos los datos estén en el formato correcto (int, float, text u otro).\n",
        "\n",
        "En Pandas, usamos\n",
        "\n",
        "* .dtype () para verificar el tipo de datos\n",
        "\n",
        "* .astype () para cambiar el tipo de datos"
      ]
    },
    {
      "cell_type": "code",
      "metadata": {
        "id": "PXTblQISVDfS"
      },
      "source": [
        "# enumera los tipo de datos para cada columna"
      ],
      "execution_count": 41,
      "outputs": []
    },
    {
      "cell_type": "markdown",
      "metadata": {
        "id": "YVX9k_YxVn04"
      },
      "source": [
        "Seguramente veras, algunas columnas no son del tipo de datos correcto. Las variables numéricas deben tener el tipo 'float' o 'int', y las variables con cadenas como categorías deben tener el tipo 'object'. Por ejemplo, las variables 'bore' y 'stroke' son valores numéricos que describen los motores, por lo que deberíamos esperar que sean del tipo 'float' o 'int'; sin embargo, se muestran como tipo 'objeto'. Tenemos que convertir los tipos de datos a un formato adecuado para cada columna usando el método \"astype ()\"."
      ]
    },
    {
      "cell_type": "code",
      "metadata": {
        "id": "w6qbJAO1Vcn3"
      },
      "source": [
        "# Convierta los tipos de datos al formato adecuado"
      ],
      "execution_count": 42,
      "outputs": []
    },
    {
      "cell_type": "code",
      "metadata": {
        "id": "-oABPd1eV6vk"
      },
      "source": [
        "# enumera nuevamente las columnas despues de convertir"
      ],
      "execution_count": 43,
      "outputs": []
    },
    {
      "cell_type": "markdown",
      "metadata": {
        "id": "DBgpHawOWNYu"
      },
      "source": [
        "# Estandarización de datos"
      ]
    },
    {
      "cell_type": "markdown",
      "metadata": {
        "id": "BXMoUk-YWbk8"
      },
      "source": [
        "Los datos generalmente se recopilan de diferentes agencias con diferentes formatos. (La estandarización de datos también es un término para un tipo particular de normalización de datos, donde restamos la media y dividimos por la desviación estándar)\n",
        "\n",
        "# ¿Qué es la estandarización?\n",
        "\n",
        "La estandarización es el proceso de transformar datos en un formato común que permite al investigador hacer una comparación significativa.\n",
        "\n",
        "Ejemplo\n",
        "\n",
        "Transforma mpg a L/100km:\n",
        "\n",
        "En nuestro conjunto de datos, las columnas de consumo de combustible \"city-mpg\" y \"highway-mpg\" están representadas por unidades de mpg (millas por galón). Supongamos que estamos desarrollando una aplicación en un país que acepta el consumo de combustible con el estándar L / 100km.\n",
        "\n",
        "¿Necesitaremos aplicar la transformación de datos para transformar mpg en L/100km?\n",
        "\n",
        "La fórmula para la conversión de unidades es\n",
        "\n",
        "L/ 100 km = 235 / mpg\n",
        "\n",
        "Podemos hacer muchas operaciones matemáticas directamente en Pandas."
      ]
    },
    {
      "cell_type": "code",
      "metadata": {
        "id": "FXj0FmLYWJES"
      },
      "source": [
        "# leer el data frame"
      ],
      "execution_count": 44,
      "outputs": []
    },
    {
      "cell_type": "code",
      "metadata": {
        "id": "74FsT4vmW7Ta"
      },
      "source": [
        "# Convierta mpg a L / 100km por operación matemática (235 dividido por mpg) y vuela a leer el dataframe"
      ],
      "execution_count": 45,
      "outputs": []
    },
    {
      "cell_type": "code",
      "metadata": {
        "id": "v6pvPuOFXF2Q"
      },
      "source": [
        "# transforme mpg a L / 100km en la columna de \"highway-mpg\" y cambie el nombre de la columna a \"highway-L / 100km\"."
      ],
      "execution_count": null,
      "outputs": []
    },
    {
      "cell_type": "markdown",
      "metadata": {
        "id": "RxTAVqIFXemu"
      },
      "source": [
        "# Normalización de datos\n",
        "\n",
        "¿Por qué la normalización?\n",
        "\n",
        "La normalización es el proceso de transformar los valores de varias variables en un rango similar. Las normalizaciones típicas incluyen escalar la variable para que el promedio de la variable sea 0, escalar la variable para que la varianza sea 1, o escalar la variable para que los valores de la variable oscilen entre 0 y 1\n",
        "\n",
        "Ejemplo\n",
        "\n",
        "Para demostrar la normalización, digamos que queremos escalar las columnas \"length\", \"width\" y \"height\".\n",
        "\n",
        "Objetivo: quisiera normalizar esas variables para que su valor oscile entre 0 y 1.\n",
        "\n",
        "Enfoque: reemplace el valor original por (valor original) / (valor máximo)"
      ]
    },
    {
      "cell_type": "code",
      "metadata": {
        "id": "F_oStZO8XgwH"
      },
      "source": [
        "# reemplazar (valor original) por (valor original) / (valor máximo) de columna length y width"
      ],
      "execution_count": 48,
      "outputs": []
    },
    {
      "cell_type": "code",
      "metadata": {
        "id": "dHOj7Ou0YIop"
      },
      "source": [
        "# Normalice la columna height"
      ],
      "execution_count": 49,
      "outputs": []
    },
    {
      "cell_type": "markdown",
      "metadata": {
        "id": "zr3j28rvY6FP"
      },
      "source": [
        "# **Análisis de datos con Python**\n",
        "# Análisi exploratorio de datos\n",
        "\n",
        "Objetivos\n",
        "\n",
        "Después de completar esta práctica de laboratorio, podrá:\n",
        "\n",
        "Explore características o características para predecir el precio del automóvil\n"
      ]
    },
    {
      "cell_type": "code",
      "metadata": {
        "id": "M-kMGQ7kYWaG"
      },
      "source": [
        "# Importar las librerias necesarias"
      ],
      "execution_count": 50,
      "outputs": []
    },
    {
      "cell_type": "code",
      "metadata": {
        "id": "yXYb3zoTbnjm"
      },
      "source": [
        "# usar el dataset guardado\n",
        "data2='https://cf-courses-data.s3.us.cloud-object-storage.appdomain.cloud/IBMDeveloperSkillsNetwork-DA0101EN-SkillsNetwork/labs/Data%20files/automobileEDA.csv'\n"
      ],
      "execution_count": 51,
      "outputs": []
    },
    {
      "cell_type": "code",
      "metadata": {
        "id": "gdMctaTHb6B8"
      },
      "source": [
        "# leer el dataset "
      ],
      "execution_count": 52,
      "outputs": []
    },
    {
      "cell_type": "code",
      "metadata": {
        "id": "1KtXGJO4b-wl"
      },
      "source": [
        "# Analizar los patrones de características individuales mediante visualización\n",
        "# Importe las librerias de visualización necesarias\n",
        "%%capture"
      ],
      "execution_count": 53,
      "outputs": []
    },
    {
      "cell_type": "code",
      "metadata": {
        "id": "A6m18KMAcSPu"
      },
      "source": [
        "# Enumere los tipos de datos de cada columna"
      ],
      "execution_count": 54,
      "outputs": []
    },
    {
      "cell_type": "code",
      "metadata": {
        "id": "Ju3aEWjxcuJZ"
      },
      "source": [
        "# ¿Cuál es el tipo de datos de la columna \"peak-rpm\"?"
      ],
      "execution_count": 55,
      "outputs": []
    },
    {
      "cell_type": "code",
      "metadata": {
        "id": "oKpYZkhwc4Ke"
      },
      "source": [
        "# calcular la correlación entre variables de tipo \"int64\" o \"float64\" usando el método \"corr\":"
      ],
      "execution_count": 56,
      "outputs": []
    },
    {
      "cell_type": "code",
      "metadata": {
        "id": "gkFW935cdVaq"
      },
      "source": [
        "# Encuentre la correlación entre las siguientes columnas: bore, stroke,compression-ratio , and horsepower.\n",
        "\n",
        "#Sugerencia: si desea seleccionar esas columnas, utilice la siguiente sintaxis: df[['bore','stroke' ,'compression-ratio','horsepower']]"
      ],
      "execution_count": 57,
      "outputs": []
    },
    {
      "cell_type": "markdown",
      "metadata": {
        "id": "e8hup4BbeHLt"
      },
      "source": [
        "# Variables Numéricas continuas\n",
        "\n",
        "Las variables numéricas continuas son variables que pueden contener cualquier valor dentro de algún rango. Las variables numéricas continuas pueden tener el tipo \"int64\" o \"float64\". Una excelente manera de visualizar estas variables es mediante el uso de diagramas de dispersión con líneas ajustadas.\n",
        "\n",
        "Para comenzar a comprender la relación (lineal) entre una variable individual y el precio. Podemos hacer esto usando \"regplot\", que traza el diagrama de dispersión más la línea de regresión ajustada para los datos.\n",
        "\n",
        "\n",
        "\n",
        "# Relación lineal positiva\n"
      ]
    },
    {
      "cell_type": "code",
      "metadata": {
        "id": "Pj8a8UDrd-9h"
      },
      "source": [
        "# Encontremos la gráfica de dispersión de \"engine-size\" and \"price\""
      ],
      "execution_count": 59,
      "outputs": []
    },
    {
      "cell_type": "code",
      "metadata": {
        "id": "zFtSmmJBewXl"
      },
      "source": [
        "# examinar la correlación entre 'engine-size' y 'price' y ver que es aproximadamente 0,87"
      ],
      "execution_count": 60,
      "outputs": []
    },
    {
      "cell_type": "code",
      "metadata": {
        "id": "UfhA2Vz1fAdY"
      },
      "source": [
        "# \"highway-mpg\" es una variable potencial de predicción del precio. grafique higway con price "
      ],
      "execution_count": 61,
      "outputs": []
    },
    {
      "cell_type": "code",
      "metadata": {
        "id": "Ke7vkTb5f66x"
      },
      "source": [
        "# examinar la correlación entre 'highway-mpg' y 'precio' y ver que es aproximadamente -0.704"
      ],
      "execution_count": 62,
      "outputs": []
    },
    {
      "cell_type": "markdown",
      "metadata": {
        "id": "BBqjZ97Qg8zg"
      },
      "source": [
        "# Relación lineal debil"
      ]
    },
    {
      "cell_type": "code",
      "metadata": {
        "id": "M-6BxYmugShA"
      },
      "source": [
        "\n",
        "# gráfique peak-rpm vs price y ver si es una buena variable predictora"
      ],
      "execution_count": 63,
      "outputs": []
    },
    {
      "cell_type": "code",
      "metadata": {
        "id": "6nm7Sndwg6LS"
      },
      "source": [
        "# examinar la correlación entre 'peak-rpm' y 'price' y ver que es aproximadamente -0.101616"
      ],
      "execution_count": 64,
      "outputs": []
    },
    {
      "cell_type": "code",
      "metadata": {
        "id": "CcfupiewhGcs"
      },
      "source": [
        "# Encuentre la correlación entre x = \"stroke\", y = \"price\".\n",
        "# Sugerencia: si desea seleccionar esas columnas, utilice la siguiente sintaxis: df [[\"stroke\", \"price\"]]"
      ],
      "execution_count": null,
      "outputs": []
    },
    {
      "cell_type": "code",
      "metadata": {
        "id": "aNv4TAYLhg3u"
      },
      "source": [
        "# Dados los resultados de la correlación entre \"price\" y \"stroke\", ¿espera una relación lineal?\n",
        "#Verifique sus resultados usando la función \"regplot ()\"."
      ],
      "execution_count": 65,
      "outputs": []
    },
    {
      "cell_type": "markdown",
      "metadata": {
        "id": "cKyRqYrFhy58"
      },
      "source": [
        "# Variable categórica\n",
        "\n",
        "Estas son variables que describen una 'característica' de una unidad de datos y se seleccionan de un pequeño grupo de categorías. Las variables categóricas pueden tener el tipo \"objeto\" o \"int64\". Una buena forma de visualizar variables categóricas es mediante el uso de diagramas de caja o boxplots.\n",
        "\n"
      ]
    },
    {
      "cell_type": "code",
      "metadata": {
        "id": "KD9nEUTthofy"
      },
      "source": [
        "# Gráficar boxplots,  la relación entre body-style y price y analizar"
      ],
      "execution_count": 66,
      "outputs": []
    },
    {
      "cell_type": "code",
      "metadata": {
        "id": "fceFmjdHiT28"
      },
      "source": [
        "# Gráficar boxplots,  la relación entre engine-location y price y analizar"
      ],
      "execution_count": 67,
      "outputs": []
    },
    {
      "cell_type": "code",
      "metadata": {
        "id": "cKRdpnaLicVN"
      },
      "source": [
        "# Gráficar boxplots,  la relación entre drive-wheels y price y analizar"
      ],
      "execution_count": 68,
      "outputs": []
    },
    {
      "cell_type": "markdown",
      "metadata": {
        "id": "vFs-Pxuui0kw"
      },
      "source": [
        "# Análisis estadístico descriptivo\n",
        "\n",
        "Primero echemos un vistazo a las variables utilizando un método de descripción.\n",
        "\n",
        "La función describe calcula automáticamente estadísticas básicas para todas las variables continuas. Cualquier valor de NaN se omite automáticamente en estas estadísticas.\n",
        "\n",
        "Esto mostrará:\n",
        "\n",
        "* el recuento de esa variable\n",
        "* el significado\n",
        "* la desviación estándar (std)\n",
        "* el valor mínimo\n",
        "* el IQR (rango intercuartílico: 25%, 50% y 75%)\n",
        "* el valor máximo\n",
        "\n",
        "Podemos aplicar el método \"describe\" de la siguiente manera:"
      ]
    },
    {
      "cell_type": "code",
      "metadata": {
        "id": "eQeDTCCFirHs"
      },
      "source": [
        "# aplica describe al dataframe"
      ],
      "execution_count": 69,
      "outputs": []
    },
    {
      "cell_type": "code",
      "metadata": {
        "id": "1U1j1cORjU6z"
      },
      "source": [
        "# La configuración predeterminada de \"describe\" omite variables de tipo objeto. \n",
        "# aplicar el método \"describe\" sobre las variables de tipo 'objeto'"
      ],
      "execution_count": 70,
      "outputs": []
    },
    {
      "cell_type": "markdown",
      "metadata": {
        "id": "1EMVX7nbj_9y"
      },
      "source": [
        "# Value Counts\n",
        "\n",
        "Value-count es una buena forma de entender cuántas unidades tenemos de cada característica / variable. Podemos aplicar el método \"value_counts\" en la columna 'drive-wheels'. No olvide que el método \"value_counts\" solo funciona en la serie Pandas, no en Pandas Dataframes. Como resultado, solo incluimos un corchete \"df ['drive-wheels']\" no dos corchetes \"df [['drive-wheels']]\""
      ]
    },
    {
      "cell_type": "code",
      "metadata": {
        "id": "dDS28sfjjoK6"
      },
      "source": [
        "# Aplica value_counts() a drive-wheels"
      ],
      "execution_count": 71,
      "outputs": []
    },
    {
      "cell_type": "code",
      "metadata": {
        "id": "8SJ5O44wkiu0"
      },
      "source": [
        "# Convierte la serie anterior a dataframe"
      ],
      "execution_count": 72,
      "outputs": []
    },
    {
      "cell_type": "code",
      "metadata": {
        "id": "sP-XsGswkyeU"
      },
      "source": [
        "# Repitamos los pasos anteriores, pero guardemos los resultados en el marco de datos \n",
        "# \"drive_wheels_counts\" y cambiemos el nombre de la columna 'drive-wheels' a 'value_counts'."
      ],
      "execution_count": 73,
      "outputs": []
    },
    {
      "cell_type": "code",
      "metadata": {
        "id": "UnbwTCpNmp0r"
      },
      "source": [
        "# Ahora cambiar el nombre del índice a 'drive-wheels':"
      ],
      "execution_count": 74,
      "outputs": []
    },
    {
      "cell_type": "markdown",
      "metadata": {
        "id": "aAnkwIx3nAnT"
      },
      "source": [
        "# Conceptos básicos de agrupación (Grouping)\n",
        "El método \"groupby\" agrupa los datos por diferentes categorías. Los datos se agrupan en función de una o varias variables y el análisis se realiza en los grupos individuales.\n",
        "\n",
        "Por ejemplo, agrupemos por la variable \"ruedas motrices\". Vemos que hay 3 categorías diferentes de ruedas motrices."
      ]
    },
    {
      "cell_type": "code",
      "metadata": {
        "id": "u0loHptgnaFw"
      },
      "source": [
        "#df['drive-wheels'].unique()"
      ],
      "execution_count": 76,
      "outputs": []
    },
    {
      "cell_type": "markdown",
      "metadata": {
        "id": "n9ULHXH6KHWm"
      },
      "source": [
        "Si queremos saber, en promedio, qué tipo de rueda motriz es más valiosa, podemos agrupar las \"ruedas motrices\" y luego promediarlas.\n",
        "\n",
        "Podemos seleccionar las columnas 'drive-wheels', 'body-style' y 'price', luego asignarlo a la variable \"df_group_one\"."
      ]
    },
    {
      "cell_type": "code",
      "metadata": {
        "id": "og3slGnWnfAp"
      },
      "source": [
        "# df_group_one = df[['drive-wheels','body-style','price']]"
      ],
      "execution_count": null,
      "outputs": []
    },
    {
      "cell_type": "code",
      "metadata": {
        "id": "YGwo8xHXKgtl"
      },
      "source": [
        "# ¿Utiliza la función \"groupby\" para encontrar el \"precio\" promedio de cada automóvil en función del \"body-style\"?"
      ],
      "execution_count": 1,
      "outputs": []
    },
    {
      "cell_type": "markdown",
      "metadata": {
        "id": "DYTTvEm8K9P8"
      },
      "source": [
        "# Variables: Drive Wheels and Body Style vs Price\n",
        "\n",
        "Use un mapa de calor para visualizar la relación entre el estilo de la carrocería y el precio.\n",
        "\n",
        "\n",
        "\n"
      ]
    },
    {
      "cell_type": "code",
      "metadata": {
        "id": "33S7MCDdKp6B"
      },
      "source": [
        "# Escribe tu código"
      ],
      "execution_count": 2,
      "outputs": []
    },
    {
      "cell_type": "markdown",
      "metadata": {
        "id": "llO8v2P-Lm5z"
      },
      "source": [
        "# Correlación y causalidad\n",
        "\n",
        "Correlación: una medida del grado de interdependencia entre variables.\n",
        "\n",
        "Causalidad: la relación entre causa y efecto entre dos variables.\n",
        "\n",
        "Es importante conocer la diferencia entre estos dos y que la correlación no implica causalidad. Determinar la correlación es mucho más simple que determinar la causalidad, ya que la causalidad puede requerir experimentación independiente.\n",
        "\n",
        "# correlación de Pearson\n",
        "\n",
        "La correlación de Pearson mide la dependencia lineal entre dos variables X e Y.\n",
        "\n",
        "El coeficiente resultante es un valor entre -1 y 1 inclusive, donde:\n",
        "\n",
        "* 1: Correlación lineal positiva total.\n",
        "* 0: Sin correlación lineal, lo más probable es que las dos variables no se afecten entre sí.\n",
        "* -1: Correlación lineal negativa total.\n",
        "\n",
        "La correlación de Pearson es el método predeterminado de la función \"corr\". Como antes, podemos calcular la correlación de Pearson de las variables 'int64' o 'float64'."
      ]
    },
    {
      "cell_type": "code",
      "metadata": {
        "id": "ISbmPr3oLZRT"
      },
      "source": [
        "# df.corr()"
      ],
      "execution_count": 3,
      "outputs": []
    },
    {
      "cell_type": "markdown",
      "metadata": {
        "id": "mZ8ka_Y6MNEk"
      },
      "source": [
        "# P-value:\n",
        "\n",
        "¿Cuál es este valor P? El valor P es el valor de probabilidad de que la correlación entre estas dos variables sea estadísticamente significativa. Normalmente, elegimos un nivel de significancia de 0.05, lo que significa que tenemos un 95% de confianza en que la correlación entre las variables es significativa.\n",
        "\n",
        "Por convención, cuando el\n",
        "\n",
        "* El valor p es <0,001: decimos que hay una fuerte evidencia de que la correlación es significativa.\n",
        "* el valor p es <0,05: existe evidencia moderada de que la correlación es significativa.\n",
        "* el valor p es <0,1: hay evidencia débil de que la correlación es significativa.\n",
        "* el valor p es> 0,1: no hay evidencia de que la correlación sea significativa.\n",
        "\n",
        "Podemos obtener esta información usando el módulo \"stats\" en la librería \"scipy\"."
      ]
    },
    {
      "cell_type": "code",
      "metadata": {
        "id": "k5B9pht2MFON"
      },
      "source": [
        "from scipy import stats"
      ],
      "execution_count": 4,
      "outputs": []
    },
    {
      "cell_type": "markdown",
      "metadata": {
        "id": "8zejEN6qM0KQ"
      },
      "source": [
        "# Wheel-base vs Price"
      ]
    },
    {
      "cell_type": "code",
      "metadata": {
        "id": "syegMvxcMwu3"
      },
      "source": [
        "# Calcule el coeficiente de correlación de Pearson y el valor P de 'base de ruedas' y 'precio'. y brinda alguna conclusion"
      ],
      "execution_count": 6,
      "outputs": []
    },
    {
      "cell_type": "markdown",
      "metadata": {
        "id": "smV783V0NIQ2"
      },
      "source": [
        "# Horsepower vs Price"
      ]
    },
    {
      "cell_type": "code",
      "metadata": {
        "id": "4JlQNqz5M74Q"
      },
      "source": [
        "# Calcule el coeficiente de correlación de Pearson y el valor P de 'caballos de fuerza' y 'precio' y di la conclusión"
      ],
      "execution_count": 7,
      "outputs": []
    },
    {
      "cell_type": "markdown",
      "metadata": {
        "id": "qh-MOA3gNcOG"
      },
      "source": [
        "# Length vs Price"
      ]
    },
    {
      "cell_type": "code",
      "metadata": {
        "id": "MyusdCEuNX8J"
      },
      "source": [
        "# Calcule el coeficiente de correlación de Pearson y el valor P de 'longitud' y 'precio' y brinda la conclusión"
      ],
      "execution_count": 8,
      "outputs": []
    },
    {
      "cell_type": "markdown",
      "metadata": {
        "id": "_XCGxdeeNw2M"
      },
      "source": [
        "# width vs price"
      ]
    },
    {
      "cell_type": "code",
      "metadata": {
        "id": "gfsi_aYhNsr0"
      },
      "source": [
        "# Calcule el coeficiente de correlación de Pearson y el valor P de 'ancho' y 'precio':"
      ],
      "execution_count": 9,
      "outputs": []
    },
    {
      "cell_type": "markdown",
      "metadata": {
        "id": "UGQ9DUlNN6z4"
      },
      "source": [
        "# Curb-weight vs Price"
      ]
    },
    {
      "cell_type": "code",
      "metadata": {
        "id": "2rNQIY3bN4tc"
      },
      "source": [
        "# Calculemos el coeficiente de correlación de Pearson y el valor P de 'peso en vacío' y 'precio':"
      ],
      "execution_count": 10,
      "outputs": []
    },
    {
      "cell_type": "markdown",
      "metadata": {
        "id": "dpLMWprOODx0"
      },
      "source": [
        "# Engine size vs price"
      ]
    },
    {
      "cell_type": "code",
      "metadata": {
        "id": "bC3zEmcdOBRt"
      },
      "source": [
        "# Calculemos el coeficiente de correlación de Pearson y el valor P de 'tamaño del motor' y 'precio':"
      ],
      "execution_count": 11,
      "outputs": []
    },
    {
      "cell_type": "markdown",
      "metadata": {
        "id": "kdQQR2RjOpI2"
      },
      "source": [
        "# Engine-size vs Price"
      ]
    },
    {
      "cell_type": "code",
      "metadata": {
        "id": "nYF_6umnOK2j"
      },
      "source": [
        "# Calculemos el coeficiente de correlación de Pearson y el valor P de 'tamaño del motor' y 'precio':"
      ],
      "execution_count": 12,
      "outputs": []
    },
    {
      "cell_type": "markdown",
      "metadata": {
        "id": "kRidoCreO11l"
      },
      "source": [
        "# bore vs price"
      ]
    },
    {
      "cell_type": "code",
      "metadata": {
        "id": "lnbzdLUSOzQl"
      },
      "source": [
        "# Calculemos el coeficiente de correlación de Pearson y el valor P de 'diámetro' y 'precio':"
      ],
      "execution_count": 13,
      "outputs": []
    },
    {
      "cell_type": "code",
      "metadata": {
        "id": "2aee_5gSO9ff"
      },
      "source": [
        ""
      ],
      "execution_count": null,
      "outputs": []
    }
  ]
}